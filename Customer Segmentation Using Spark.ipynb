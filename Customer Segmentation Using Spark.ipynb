{
 "cells": [
  {
   "cell_type": "code",
   "execution_count": 1,
   "id": "47ede2c9",
   "metadata": {},
   "outputs": [
    {
     "name": "stdout",
     "output_type": "stream",
     "text": [
      "SPARK_HOME: C:\\spark\\spark-3.4.1-bin-hadoop3\\spark-3.4.1-bin-hadoop3\n",
      "HADOOP_HOME: C:\\hadoop\n"
     ]
    }
   ],
   "source": [
    "import os\n",
    "print(\"SPARK_HOME:\", os.environ.get(\"SPARK_HOME\"))\n",
    "print(\"HADOOP_HOME:\", os.environ.get(\"HADOOP_HOME\"))"
   ]
  },
  {
   "cell_type": "code",
   "execution_count": 2,
   "id": "4fb52c54",
   "metadata": {},
   "outputs": [],
   "source": [
    "import findspark\n",
    "findspark.init()"
   ]
  },
  {
   "cell_type": "code",
   "execution_count": 3,
   "id": "4e778b97",
   "metadata": {},
   "outputs": [],
   "source": [
    "# Loading pyspark libraries for KMeans\n",
    "from pyspark.ml.clustering import KMeans\n",
    "from pyspark.ml.evaluation import ClusteringEvaluator"
   ]
  },
  {
   "cell_type": "code",
   "execution_count": 4,
   "id": "c53f9a58",
   "metadata": {},
   "outputs": [],
   "source": [
    "# Loading other required libraries\n",
    "import pandas as pd\n",
    "import numpy as np\n",
    "import matplotlib.pyplot as plt"
   ]
  },
  {
   "cell_type": "code",
   "execution_count": 5,
   "id": "bed013f7",
   "metadata": {},
   "outputs": [],
   "source": [
    "from pyspark import SparkContext\n",
    "from pyspark.sql import SparkSession\n",
    "sc = SparkContext('local[*]')\n",
    "spark = SparkSession(sc)"
   ]
  },
  {
   "cell_type": "code",
   "execution_count": 6,
   "id": "f1de4adf",
   "metadata": {},
   "outputs": [
    {
     "data": {
      "text/html": [
       "<div>\n",
       "<style scoped>\n",
       "    .dataframe tbody tr th:only-of-type {\n",
       "        vertical-align: middle;\n",
       "    }\n",
       "\n",
       "    .dataframe tbody tr th {\n",
       "        vertical-align: top;\n",
       "    }\n",
       "\n",
       "    .dataframe thead th {\n",
       "        text-align: right;\n",
       "    }\n",
       "</style>\n",
       "<table border=\"1\" class=\"dataframe\">\n",
       "  <thead>\n",
       "    <tr style=\"text-align: right;\">\n",
       "      <th></th>\n",
       "      <th>CustomerID</th>\n",
       "      <th>Genre</th>\n",
       "      <th>Age</th>\n",
       "      <th>Annual Income (k$)</th>\n",
       "      <th>Spending Score (1-100)</th>\n",
       "    </tr>\n",
       "  </thead>\n",
       "  <tbody>\n",
       "    <tr>\n",
       "      <th>0</th>\n",
       "      <td>1</td>\n",
       "      <td>Male</td>\n",
       "      <td>19</td>\n",
       "      <td>15</td>\n",
       "      <td>39</td>\n",
       "    </tr>\n",
       "    <tr>\n",
       "      <th>1</th>\n",
       "      <td>2</td>\n",
       "      <td>Male</td>\n",
       "      <td>21</td>\n",
       "      <td>15</td>\n",
       "      <td>81</td>\n",
       "    </tr>\n",
       "    <tr>\n",
       "      <th>2</th>\n",
       "      <td>3</td>\n",
       "      <td>Female</td>\n",
       "      <td>20</td>\n",
       "      <td>16</td>\n",
       "      <td>6</td>\n",
       "    </tr>\n",
       "    <tr>\n",
       "      <th>3</th>\n",
       "      <td>4</td>\n",
       "      <td>Female</td>\n",
       "      <td>23</td>\n",
       "      <td>16</td>\n",
       "      <td>77</td>\n",
       "    </tr>\n",
       "    <tr>\n",
       "      <th>4</th>\n",
       "      <td>5</td>\n",
       "      <td>Female</td>\n",
       "      <td>31</td>\n",
       "      <td>17</td>\n",
       "      <td>40</td>\n",
       "    </tr>\n",
       "  </tbody>\n",
       "</table>\n",
       "</div>"
      ],
      "text/plain": [
       "   CustomerID   Genre  Age  Annual Income (k$)  Spending Score (1-100)\n",
       "0           1    Male   19                  15                      39\n",
       "1           2    Male   21                  15                      81\n",
       "2           3  Female   20                  16                       6\n",
       "3           4  Female   23                  16                      77\n",
       "4           5  Female   31                  17                      40"
      ]
     },
     "execution_count": 6,
     "metadata": {},
     "output_type": "execute_result"
    }
   ],
   "source": [
    "# Loading dataset\n",
    "df = pd.read_csv(\"Mall_Customers.csv\")\n",
    "df.head()"
   ]
  },
  {
   "cell_type": "code",
   "execution_count": 9,
   "id": "24e99c00",
   "metadata": {},
   "outputs": [],
   "source": [
    "df1 = spark.createDataFrame(df)"
   ]
  },
  {
   "cell_type": "code",
   "execution_count": 10,
   "id": "aed9e2fb",
   "metadata": {},
   "outputs": [
    {
     "name": "stdout",
     "output_type": "stream",
     "text": [
      "root\n",
      " |-- CustomerID: long (nullable = true)\n",
      " |-- Genre: string (nullable = true)\n",
      " |-- Age: long (nullable = true)\n",
      " |-- Annual Income (k$): long (nullable = true)\n",
      " |-- Spending Score (1-100): long (nullable = true)\n",
      "\n"
     ]
    }
   ],
   "source": [
    "df1.printSchema()"
   ]
  },
  {
   "cell_type": "code",
   "execution_count": 11,
   "id": "e19e8650",
   "metadata": {},
   "outputs": [],
   "source": [
    "#!pip show pyspark"
   ]
  },
  {
   "cell_type": "code",
   "execution_count": 8,
   "id": "cd06f301",
   "metadata": {},
   "outputs": [],
   "source": [
    "# Encoding Gender\n",
    "def change_gender(item):\n",
    "    if item == \"Male\":\n",
    "        return 0\n",
    "    else:\n",
    "        return 1\n",
    "\n",
    "df[\"Gender\"] = df[\"Genre\"].apply(change_gender,1)\n",
    "df = df[[\"Gender\",\"Age\",\"Annual Income (k$)\",\"Spending Score (1-100)\"]]"
   ]
  },
  {
   "cell_type": "code",
   "execution_count": 11,
   "id": "cf683a15",
   "metadata": {},
   "outputs": [],
   "source": [
    "# Converting pandas dataframe into spark dataframe\n",
    "from pyspark.sql.types import StructType, StructField, NumericType\n",
    "spark_df = spark.createDataFrame(df)"
   ]
  },
  {
   "cell_type": "code",
   "execution_count": 12,
   "id": "9818e4a3",
   "metadata": {},
   "outputs": [
    {
     "data": {
      "text/plain": [
       "('Gender', 'Age', 'Annual Income (k$)', 'Spending Score (1-100)')"
      ]
     },
     "execution_count": 12,
     "metadata": {},
     "output_type": "execute_result"
    }
   ],
   "source": [
    "from pyspark.ml.feature import VectorAssembler\n",
    "features = tuple(df.columns)\n",
    "features"
   ]
  },
  {
   "cell_type": "code",
   "execution_count": 13,
   "id": "d2c0ceeb",
   "metadata": {},
   "outputs": [
    {
     "name": "stdout",
     "output_type": "stream",
     "text": [
      "+--------------------+\n",
      "|features            |\n",
      "+--------------------+\n",
      "|[0.0,19.0,15.0,39.0]|\n",
      "|[0.0,21.0,15.0,81.0]|\n",
      "|[1.0,20.0,16.0,6.0] |\n",
      "|[1.0,23.0,16.0,77.0]|\n",
      "|[1.0,31.0,17.0,40.0]|\n",
      "|[1.0,22.0,17.0,76.0]|\n",
      "|[1.0,35.0,18.0,6.0] |\n",
      "|[1.0,23.0,18.0,94.0]|\n",
      "|[0.0,64.0,19.0,3.0] |\n",
      "|[1.0,30.0,19.0,72.0]|\n",
      "|[0.0,67.0,19.0,14.0]|\n",
      "|[1.0,35.0,19.0,99.0]|\n",
      "|[1.0,58.0,20.0,15.0]|\n",
      "|[1.0,24.0,20.0,77.0]|\n",
      "|[0.0,37.0,20.0,13.0]|\n",
      "|[0.0,22.0,20.0,79.0]|\n",
      "|[1.0,35.0,21.0,35.0]|\n",
      "|[0.0,20.0,21.0,66.0]|\n",
      "|[0.0,52.0,23.0,29.0]|\n",
      "|[1.0,35.0,23.0,98.0]|\n",
      "+--------------------+\n",
      "only showing top 20 rows\n",
      "\n"
     ]
    }
   ],
   "source": [
    "# Making a spark dataframe\n",
    "assembler = VectorAssembler(inputCols=features,outputCol=\"features\")\n",
    "dataset = assembler.transform(spark_df)\n",
    "dataset.select(\"features\").show(truncate=False)"
   ]
  },
  {
   "cell_type": "code",
   "execution_count": 23,
   "id": "ad14f2b7",
   "metadata": {},
   "outputs": [
    {
     "name": "stdout",
     "output_type": "stream",
     "text": [
      "Silhouetter with squared euclidean distance = 0.6276007113904093\n",
      "Cluster Centers: \n",
      "[ 0.48648649 40.32432432 87.43243243 18.18918919]\n",
      "[ 0.56 24.96 28.04 77.  ]\n",
      "[ 0.59210526 43.93421053 55.21052632 49.44736842]\n",
      "[ 0.53846154 32.69230769 86.53846154 82.12820513]\n",
      "[ 0.60869565 45.2173913  26.30434783 20.91304348]\n"
     ]
    }
   ],
   "source": [
    "# Creating KMeans \n",
    "kmeans = KMeans().setK(5).setSeed(42)\n",
    "model = kmeans.fit(dataset)\n",
    "\n",
    "predictions = model.transform(dataset)\n",
    "evaluator = ClusteringEvaluator()\n",
    "\n",
    "silhouette = evaluator.evaluate(predictions)\n",
    "print(\"Silhouetter with squared euclidean distance = {}\".format(silhouette))\n",
    "\n",
    "print(\"Cluster Centers: \")\n",
    "ctr = []\n",
    "centers = model.clusterCenters()\n",
    "\n",
    "for center in centers:\n",
    "    ctr.append(center)\n",
    "    print(center)"
   ]
  },
  {
   "cell_type": "code",
   "execution_count": 24,
   "id": "c9b19188",
   "metadata": {},
   "outputs": [
    {
     "data": {
      "text/html": [
       "<div>\n",
       "<style scoped>\n",
       "    .dataframe tbody tr th:only-of-type {\n",
       "        vertical-align: middle;\n",
       "    }\n",
       "\n",
       "    .dataframe tbody tr th {\n",
       "        vertical-align: top;\n",
       "    }\n",
       "\n",
       "    .dataframe thead th {\n",
       "        text-align: right;\n",
       "    }\n",
       "</style>\n",
       "<table border=\"1\" class=\"dataframe\">\n",
       "  <thead>\n",
       "    <tr style=\"text-align: right;\">\n",
       "      <th></th>\n",
       "      <th>Gender</th>\n",
       "      <th>Age</th>\n",
       "      <th>Annual Income (k$)</th>\n",
       "      <th>Spending Score (1-100)</th>\n",
       "    </tr>\n",
       "  </thead>\n",
       "  <tbody>\n",
       "    <tr>\n",
       "      <th>0</th>\n",
       "      <td>0.486486</td>\n",
       "      <td>40.324324</td>\n",
       "      <td>87.432432</td>\n",
       "      <td>18.189189</td>\n",
       "    </tr>\n",
       "    <tr>\n",
       "      <th>1</th>\n",
       "      <td>0.560000</td>\n",
       "      <td>24.960000</td>\n",
       "      <td>28.040000</td>\n",
       "      <td>77.000000</td>\n",
       "    </tr>\n",
       "    <tr>\n",
       "      <th>2</th>\n",
       "      <td>0.592105</td>\n",
       "      <td>43.934211</td>\n",
       "      <td>55.210526</td>\n",
       "      <td>49.447368</td>\n",
       "    </tr>\n",
       "    <tr>\n",
       "      <th>3</th>\n",
       "      <td>0.538462</td>\n",
       "      <td>32.692308</td>\n",
       "      <td>86.538462</td>\n",
       "      <td>82.128205</td>\n",
       "    </tr>\n",
       "    <tr>\n",
       "      <th>4</th>\n",
       "      <td>0.608696</td>\n",
       "      <td>45.217391</td>\n",
       "      <td>26.304348</td>\n",
       "      <td>20.913043</td>\n",
       "    </tr>\n",
       "  </tbody>\n",
       "</table>\n",
       "</div>"
      ],
      "text/plain": [
       "     Gender        Age  Annual Income (k$)  Spending Score (1-100)\n",
       "0  0.486486  40.324324           87.432432               18.189189\n",
       "1  0.560000  24.960000           28.040000               77.000000\n",
       "2  0.592105  43.934211           55.210526               49.447368\n",
       "3  0.538462  32.692308           86.538462               82.128205\n",
       "4  0.608696  45.217391           26.304348               20.913043"
      ]
     },
     "execution_count": 24,
     "metadata": {},
     "output_type": "execute_result"
    }
   ],
   "source": [
    "centers = pd.DataFrame(ctr,columns=features)\n",
    "centers.head()"
   ]
  },
  {
   "cell_type": "code",
   "execution_count": 25,
   "id": "2f944684",
   "metadata": {},
   "outputs": [
    {
     "data": {
      "text/html": [
       "<div>\n",
       "<style scoped>\n",
       "    .dataframe tbody tr th:only-of-type {\n",
       "        vertical-align: middle;\n",
       "    }\n",
       "\n",
       "    .dataframe tbody tr th {\n",
       "        vertical-align: top;\n",
       "    }\n",
       "\n",
       "    .dataframe thead th {\n",
       "        text-align: right;\n",
       "    }\n",
       "</style>\n",
       "<table border=\"1\" class=\"dataframe\">\n",
       "  <thead>\n",
       "    <tr style=\"text-align: right;\">\n",
       "      <th></th>\n",
       "      <th>Gender</th>\n",
       "      <th>Age</th>\n",
       "      <th>Annual Income (k$)</th>\n",
       "      <th>Spending Score (1-100)</th>\n",
       "      <th>features</th>\n",
       "      <th>prediction</th>\n",
       "    </tr>\n",
       "  </thead>\n",
       "  <tbody>\n",
       "    <tr>\n",
       "      <th>0</th>\n",
       "      <td>0</td>\n",
       "      <td>19</td>\n",
       "      <td>15</td>\n",
       "      <td>39</td>\n",
       "      <td>[0.0, 19.0, 15.0, 39.0]</td>\n",
       "      <td>4</td>\n",
       "    </tr>\n",
       "    <tr>\n",
       "      <th>1</th>\n",
       "      <td>0</td>\n",
       "      <td>21</td>\n",
       "      <td>15</td>\n",
       "      <td>81</td>\n",
       "      <td>[0.0, 21.0, 15.0, 81.0]</td>\n",
       "      <td>1</td>\n",
       "    </tr>\n",
       "    <tr>\n",
       "      <th>2</th>\n",
       "      <td>1</td>\n",
       "      <td>20</td>\n",
       "      <td>16</td>\n",
       "      <td>6</td>\n",
       "      <td>[1.0, 20.0, 16.0, 6.0]</td>\n",
       "      <td>4</td>\n",
       "    </tr>\n",
       "    <tr>\n",
       "      <th>3</th>\n",
       "      <td>1</td>\n",
       "      <td>23</td>\n",
       "      <td>16</td>\n",
       "      <td>77</td>\n",
       "      <td>[1.0, 23.0, 16.0, 77.0]</td>\n",
       "      <td>1</td>\n",
       "    </tr>\n",
       "    <tr>\n",
       "      <th>4</th>\n",
       "      <td>1</td>\n",
       "      <td>31</td>\n",
       "      <td>17</td>\n",
       "      <td>40</td>\n",
       "      <td>[1.0, 31.0, 17.0, 40.0]</td>\n",
       "      <td>4</td>\n",
       "    </tr>\n",
       "  </tbody>\n",
       "</table>\n",
       "</div>"
      ],
      "text/plain": [
       "   Gender  Age  Annual Income (k$)  Spending Score (1-100)  \\\n",
       "0       0   19                  15                      39   \n",
       "1       0   21                  15                      81   \n",
       "2       1   20                  16                       6   \n",
       "3       1   23                  16                      77   \n",
       "4       1   31                  17                      40   \n",
       "\n",
       "                  features  prediction  \n",
       "0  [0.0, 19.0, 15.0, 39.0]           4  \n",
       "1  [0.0, 21.0, 15.0, 81.0]           1  \n",
       "2   [1.0, 20.0, 16.0, 6.0]           4  \n",
       "3  [1.0, 23.0, 16.0, 77.0]           1  \n",
       "4  [1.0, 31.0, 17.0, 40.0]           4  "
      ]
     },
     "execution_count": 25,
     "metadata": {},
     "output_type": "execute_result"
    }
   ],
   "source": [
    "predictions_df = predictions.toPandas()\n",
    "predictions_df.head()"
   ]
  },
  {
   "cell_type": "code",
   "execution_count": 26,
   "id": "2946eb39",
   "metadata": {},
   "outputs": [
    {
     "data": {
      "text/plain": [
       "array([ 70,  71,  71,  72,  73,  73,  74,  75,  76,  77,  77,  78,  78,\n",
       "        78,  78,  78,  78,  79,  81,  85,  86,  87,  87,  87,  88,  88,\n",
       "        93,  97,  98,  99, 101, 103, 103, 113, 120, 126, 137], dtype=int64)"
      ]
     },
     "execution_count": 26,
     "metadata": {},
     "output_type": "execute_result"
    }
   ],
   "source": [
    "predictions_df[predictions_df[\"prediction\"] == 0][\"Annual Income (k$)\"].values"
   ]
  },
  {
   "cell_type": "code",
   "execution_count": 27,
   "id": "8894cf0f",
   "metadata": {},
   "outputs": [],
   "source": [
    "from IPython import get_ipython\n",
    "get_ipython().run_line_magic('matplotlib', 'inline')\n"
   ]
  },
  {
   "cell_type": "code",
   "execution_count": 28,
   "id": "a6af2d4c",
   "metadata": {},
   "outputs": [],
   "source": [
    "zero_income = predictions_df[predictions_df[\"prediction\"] == 0][\"Annual Income (k$)\"].values\n",
    "zero_spendingScore = predictions_df[predictions_df[\"prediction\"] == 0][\"Spending Score (1-100)\"].values\n",
    "\n",
    "one_income = predictions_df[predictions_df[\"prediction\"] == 1][\"Annual Income (k$)\"].values\n",
    "one_spendingScore = predictions_df[predictions_df[\"prediction\"] == 1][\"Spending Score (1-100)\"].values\n",
    "\n",
    "two_income = predictions_df[predictions_df[\"prediction\"] == 2][\"Annual Income (k$)\"].values\n",
    "two_spendingScore = predictions_df[predictions_df[\"prediction\"] == 2][\"Spending Score (1-100)\"].values\n",
    "\n",
    "three_income = predictions_df[predictions_df[\"prediction\"] == 3][\"Annual Income (k$)\"].values\n",
    "three_spendingScore = predictions_df[predictions_df[\"prediction\"] == 3][\"Spending Score (1-100)\"].values\n",
    "\n",
    "four_income = predictions_df[predictions_df[\"prediction\"] == 4][\"Annual Income (k$)\"].values\n",
    "four_spendingScore = predictions_df[predictions_df[\"prediction\"] == 4][\"Spending Score (1-100)\"].values"
   ]
  },
  {
   "cell_type": "code",
   "execution_count": 29,
   "id": "21d6fbfe",
   "metadata": {},
   "outputs": [
    {
     "data": {
      "image/png": "[encoded data removed]",
      "text/plain": [
       "<Figure size 960x640 with 1 Axes>"
      ]
     },
     "metadata": {},
     "output_type": "display_data"
    }
   ],
   "source": [
    "from matplotlib.pyplot import figure\n",
    "\n",
    "fig = figure(figsize=(12,8), dpi=80)\n",
    "plt.scatter(zero_income,zero_spendingScore,s=100,c='pink',label='miser')\n",
    "plt.scatter(one_income,one_spendingScore,s=100,c='yellow',label='general')\n",
    "plt.scatter(two_income,two_spendingScore,s=100,c='cyan',label='target')\n",
    "plt.scatter(three_income,three_spendingScore,s=100,c='magenta',label='spendthrift')\n",
    "plt.scatter(four_income,four_spendingScore,s=100,c='orange',label='careful')\n",
    "plt.scatter(centers[\"Annual Income (k$)\"],centers[\"Spending Score (1-100)\"],s=50,c='blue',label='centroid')\n",
    "\n",
    "plt.style.use('fivethirtyeight')\n",
    "plt.title('K Means Clustering', fontsize = 20)\n",
    "plt.xlabel('Annual Income')\n",
    "plt.ylabel('Spending Score')\n",
    "plt.legend()\n",
    "plt.grid()\n",
    "plt.show()"
   ]
  }
 ],
 "metadata": {
  "kernelspec": {
   "display_name": "Python 3 (ipykernel)",
   "language": "python",
   "name": "python3"
  },
  "language_info": {
   "codemirror_mode": {
    "name": "ipython",
    "version": 3
   },
   "file_extension": ".py",
   "mimetype": "text/x-python",
   "name": "python",
   "nbconvert_exporter": "python",
   "pygments_lexer": "ipython3",
   "version": "3.11.4"
  }
 },
 "nbformat": 4,
 "nbformat_minor": 5
}
